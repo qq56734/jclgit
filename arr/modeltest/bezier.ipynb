{
 "cells": [
  {
   "cell_type": "code",
   "execution_count": 1,
   "metadata": {},
   "outputs": [],
   "source": [
    "import numpy as np\n",
    "import matplotlib.pyplot as plt\n",
    "\n",
    "# find the a & b points\n",
    "def get_bezier_coef(points):\n",
    "    # since the formulas work given that we have n+1 points\n",
    "    # then n must be this:\n",
    "    n = len(points) - 1\n",
    "\n",
    "    # build coefficents matrix\n",
    "    C = 4 * np.identity(n)\n",
    "    np.fill_diagonal(C[1:], 1)\n",
    "    np.fill_diagonal(C[:, 1:], 1)\n",
    "    C[0, 0] = 2\n",
    "    C[n - 1, n - 1] = 7\n",
    "    C[n - 1, n - 2] = 2\n",
    "\n",
    "    # build points vector\n",
    "    P = [2 * (2 * points[i] + points[i + 1]) for i in range(n)]\n",
    "    P[0] = points[0] + 2 * points[1]\n",
    "    P[n - 1] = 8 * points[n - 1] + points[n]\n",
    "\n",
    "    # solve system, find a & b\n",
    "    A = np.linalg.solve(C, P)\n",
    "    B = [0] * n\n",
    "    for i in range(n - 1):\n",
    "        B[i] = 2 * points[i + 1] - A[i + 1]\n",
    "    B[n - 1] = (A[n - 1] + points[n]) / 2\n",
    "\n",
    "    return A, B\n",
    "\n",
    "# returns the general Bezier cubic formula given 4 control points\n",
    "def get_cubic(a, b, c, d):\n",
    "    return lambda t: np.power(1 - t, 3) * a + 3 * np.power(1 - t, 2) * t * b + 3 * (1 - t) * np.power(t, 2) * c + np.power(t, 3) * d\n",
    "\n",
    "# return one cubic curve for each consecutive points\n",
    "def get_bezier_cubic(points):\n",
    "    A, B = get_bezier_coef(points)\n",
    "    return [\n",
    "        get_cubic(points[i], A[i], B[i], points[i + 1])\n",
    "        for i in range(len(points) - 1)\n",
    "    ]\n",
    "\n",
    "# evalute each cubic curve on the range [0, 1] sliced in n points\n",
    "def evaluate_bezier(points, n):\n",
    "    curves = get_bezier_cubic(points)\n",
    "    return np.array([fun(t) for fun in curves for t in np.linspace(0, 1, n)])"
   ]
  },
  {
   "cell_type": "code",
   "execution_count": 12,
   "metadata": {},
   "outputs": [
    {
     "data": {
      "image/png": "[encoded data removed]",
      "text/plain": [
       "<Figure size 792x576 with 1 Axes>"
      ]
     },
     "metadata": {
      "needs_background": "light"
     },
     "output_type": "display_data"
    }
   ],
   "source": [
    "#points = np.random.rand(5, 2)\n",
    "\n",
    "\n",
    "\n",
    "# fit the points with Bezier interpolation\n",
    "# use 50 points between each consecutive points to draw the curve\n",
    "path = evaluate_bezier(points, 10)\n",
    "\n",
    "# extract x & y coordinates of points\n",
    "x, y = points[:,0], points[:,1]\n",
    "px, py = path[:,0], path[:,1]\n",
    "\n",
    "# plot\n",
    "plt.figure(figsize=(11, 8))\n",
    "plt.plot(px, py, 'b-')\n",
    "plt.plot(x, y, 'ro')\n",
    "plt.show()"
   ]
  },
  {
   "cell_type": "code",
   "execution_count": 14,
   "metadata": {},
   "outputs": [
    {
     "data": {
      "text/plain": [
       "array([[ 79.        , 538.        ],\n",
       "       [ 81.38271605, 539.64654778],\n",
       "       [ 83.79506173, 541.26127115],\n",
       "       [ 86.26666667, 542.81234568],\n",
       "       [ 88.82716049, 544.26794696],\n",
       "       [ 91.50617284, 545.59625057],\n",
       "       [ 94.33333333, 546.7654321 ],\n",
       "       [ 97.3382716 , 547.74366712],\n",
       "       [100.55061728, 548.49913123],\n",
       "       [104.        , 549.        ],\n",
       "       [104.        , 549.        ],\n",
       "       [107.70562414, 549.22295382],\n",
       "       [111.64499314, 549.17869227],\n",
       "       [115.78518519, 548.88641975],\n",
       "       [120.09327846, 548.36534065],\n",
       "       [124.53635117, 547.63465935],\n",
       "       [129.08148148, 546.71358025],\n",
       "       [133.6957476 , 545.62130773],\n",
       "       [138.34622771, 544.37704618],\n",
       "       [143.        , 543.        ],\n",
       "       [143.        , 543.        ],\n",
       "       [147.63017833, 541.50827618],\n",
       "       [152.2340192 , 539.91559214],\n",
       "       [156.81481481, 538.2345679 ],\n",
       "       [161.37585734, 536.4778235 ],\n",
       "       [165.92043896, 534.65797897],\n",
       "       [170.45185185, 532.78765432],\n",
       "       [174.9733882 , 530.87946959],\n",
       "       [179.48834019, 528.94604481],\n",
       "       [184.        , 527.        ]])"
      ]
     },
     "execution_count": 14,
     "metadata": {},
     "output_type": "execute_result"
    }
   ],
   "source": [
    "path"
   ]
  },
  {
   "cell_type": "code",
   "execution_count": 3,
   "metadata": {},
   "outputs": [
    {
     "data": {
      "text/plain": [
       "array([[0.72735764, 0.91637564],\n",
       "       [0.59482968, 0.85624803],\n",
       "       [0.98733747, 0.68678391],\n",
       "       [0.63707592, 0.44218859],\n",
       "       [0.96168728, 0.96879138]])"
      ]
     },
     "execution_count": 3,
     "metadata": {},
     "output_type": "execute_result"
    }
   ],
   "source": [
    "points"
   ]
  },
  {
   "cell_type": "code",
   "execution_count": 7,
   "metadata": {},
   "outputs": [],
   "source": [
    "points = np.array([[ 79, 538],\n",
    "       [104, 549],\n",
    "       [143, 543],\n",
    "       [184, 527]])\n",
    "\n"
   ]
  },
  {
   "cell_type": "code",
   "execution_count": null,
   "metadata": {},
   "outputs": [],
   "source": []
  },
  {
   "cell_type": "code",
   "execution_count": null,
   "metadata": {},
   "outputs": [],
   "source": []
  }
 ],
 "metadata": {
  "kernelspec": {
   "display_name": "Python 3",
   "language": "python",
   "name": "python3"
  },
  "language_info": {
   "codemirror_mode": {
    "name": "ipython",
    "version": 3
   },
   "file_extension": ".py",
   "mimetype": "text/x-python",
   "name": "python",
   "nbconvert_exporter": "python",
   "pygments_lexer": "ipython3",
   "version": "3.7.6"
  }
 },
 "nbformat": 4,
 "nbformat_minor": 4
}
