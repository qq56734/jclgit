{
 "cells": [
  {
   "cell_type": "code",
   "execution_count": 3,
   "metadata": {},
   "outputs": [],
   "source": [
    "from atlassian import Jira\n",
    "from atlassian import Confluence\n",
    "from atlassian import Bitbucket\n",
    "from atlassian import ServiceDesk\n",
    "\n",
    "confluence = Confluence(\n",
    "    url='http://docs.fscut.com',\n",
    "    username='jiangchenglin',\n",
    "    password='jcl565600')"
   ]
  },
  {
   "cell_type": "code",
   "execution_count": 15,
   "metadata": {},
   "outputs": [],
   "source": [
    "id = 58269663\n",
    "page_info = confluence.get_page_by_id(id, expand = 'space,body.view,version,container')\n",
    "content = page_info['body']['view']['value']"
   ]
  },
  {
   "cell_type": "code",
   "execution_count": 37,
   "metadata": {},
   "outputs": [
    {
     "data": {
      "text/plain": [
       "'2020-05-09 17:35 (曾昭维-出差报告)'"
      ]
     },
     "execution_count": 37,
     "metadata": {},
     "output_type": "execute_result"
    }
   ],
   "source": [
    "page_info['title']"
   ]
  },
  {
   "cell_type": "code",
   "execution_count": 41,
   "metadata": {},
   "outputs": [
    {
     "data": {
      "text/plain": [
       "'曾昭维'"
      ]
     },
     "execution_count": 41,
     "metadata": {},
     "output_type": "execute_result"
    }
   ],
   "source": [
    "page_info['title'][18:21]"
   ]
  },
  {
   "cell_type": "code",
   "execution_count": 16,
   "metadata": {},
   "outputs": [
    {
     "data": {
      "text/plain": [
       "<html><body><div class=\"table-wrap\"><table class=\"confluenceTable\"><p style=\"text-align: center;\">出差记录</p><tbody><tr><th class=\"confluenceTh\" width=\"100\">客户</th><td class=\"confluenceTd\">福永终端</td></tr><tr><th class=\"confluenceTh\" width=\"100\">出差目的</th><td class=\"confluenceTd\">测试固件，排查出光异常</td></tr><tr><th class=\"confluenceTh\" width=\"100\">内容</th><td class=\"confluenceTd\">1.客户现场反馈使用465固件一段时间后，偶尔会出现漏点的现象。出现后频率大大提高，断电重启就能恢复正常。我们的怀疑点有两个，一个可能是脉冲脉冲毛刺引起的漏点，另一个可能是激光器对脉宽要求较高。带着测试固件过来终端客户现场测试。针对两个怀疑点各切了2个pcs用显微镜观察。除了发现一处疑似漏点的地方（大概率是污物），其他地方均正常。所以这两个怀疑点基本可以排除。这个问题还得慢慢来。</td></tr><tr><th class=\"confluenceTh\" width=\"100\">问题</th><td class=\"confluenceTd\">1.现场用来测试的机器当天晚上就出光异常了，打点没痕迹。以为479固件又有异常，早上过来排查，数据采集正常，示波器波形正常。确认是华快激光器出了问题，功率掉了10w。</td></tr><tr><th class=\"confluenceTh\" width=\"100\">需求</th><td class=\"confluenceTd\"></td></tr><tr><th class=\"confluenceTh\" width=\"100\">建议</th><td class=\"confluenceTd\"></td></tr></tbody></table></div></body></html>"
      ]
     },
     "execution_count": 16,
     "metadata": {},
     "output_type": "execute_result"
    }
   ],
   "source": [
    "from bs4 import BeautifulSoup\n",
    "soup = BeautifulSoup(content,'lxml')\n",
    "soup"
   ]
  },
  {
   "cell_type": "code",
   "execution_count": 38,
   "metadata": {},
   "outputs": [
    {
     "data": {
      "text/plain": [
       "'出差记录客户福永终端出差目的测试固件，排查出光异常内容1.客户现场反馈使用465固件一段时间后，偶尔会出现漏点的现象。出现后频率大大提高，断电重启就能恢复正常。我们的怀疑点有两个，一个可能是脉冲脉冲毛刺引起的漏点，另一个可能是激光器对脉宽要求较高。带着测试固件过来终端客户现场测试。针对两个怀疑点各切了2个pcs用显微镜观察。除了发现一处疑似漏点的地方（大概率是污物），其他地方均正常。所以这两个怀疑点基本可以排除。这个问题还得慢慢来。问题1.现场用来测试的机器当天晚上就出光异常了，打点没痕迹。以为479固件又有异常，早上过来排查，数据采集正常，示波器波形正常。确认是华快激光器出了问题，功率掉了10w。需求建议'"
      ]
     },
     "execution_count": 38,
     "metadata": {},
     "output_type": "execute_result"
    }
   ],
   "source": [
    "soup.text\n"
   ]
  },
  {
   "cell_type": "code",
   "execution_count": 28,
   "metadata": {},
   "outputs": [
    {
     "data": {
      "text/plain": [
       "'出差记录'"
      ]
     },
     "execution_count": 28,
     "metadata": {},
     "output_type": "execute_result"
    }
   ],
   "source": [
    "soup.contents[0].contents[0].contents[0].contents[0].contents[0].text"
   ]
  },
  {
   "cell_type": "code",
   "execution_count": 30,
   "metadata": {},
   "outputs": [
    {
     "data": {
      "text/plain": [
       "<tbody><tr><th class=\"confluenceTh\" width=\"100\">客户</th><td class=\"confluenceTd\">福永终端</td></tr><tr><th class=\"confluenceTh\" width=\"100\">出差目的</th><td class=\"confluenceTd\">测试固件，排查出光异常</td></tr><tr><th class=\"confluenceTh\" width=\"100\">内容</th><td class=\"confluenceTd\">1.客户现场反馈使用465固件一段时间后，偶尔会出现漏点的现象。出现后频率大大提高，断电重启就能恢复正常。我们的怀疑点有两个，一个可能是脉冲脉冲毛刺引起的漏点，另一个可能是激光器对脉宽要求较高。带着测试固件过来终端客户现场测试。针对两个怀疑点各切了2个pcs用显微镜观察。除了发现一处疑似漏点的地方（大概率是污物），其他地方均正常。所以这两个怀疑点基本可以排除。这个问题还得慢慢来。</td></tr><tr><th class=\"confluenceTh\" width=\"100\">问题</th><td class=\"confluenceTd\">1.现场用来测试的机器当天晚上就出光异常了，打点没痕迹。以为479固件又有异常，早上过来排查，数据采集正常，示波器波形正常。确认是华快激光器出了问题，功率掉了10w。</td></tr><tr><th class=\"confluenceTh\" width=\"100\">需求</th><td class=\"confluenceTd\"></td></tr><tr><th class=\"confluenceTh\" width=\"100\">建议</th><td class=\"confluenceTd\"></td></tr></tbody>"
      ]
     },
     "execution_count": 30,
     "metadata": {},
     "output_type": "execute_result"
    }
   ],
   "source": [
    "soup.contents[0].contents[0].contents[0].contents[0].contents[1]"
   ]
  },
  {
   "cell_type": "code",
   "execution_count": 34,
   "metadata": {},
   "outputs": [
    {
     "data": {
      "text/plain": [
       "'出差目的测试固件，排查出光异常'"
      ]
     },
     "execution_count": 34,
     "metadata": {},
     "output_type": "execute_result"
    }
   ],
   "source": [
    "soup.tbody.contents[1].text"
   ]
  },
  {
   "cell_type": "code",
   "execution_count": null,
   "metadata": {},
   "outputs": [],
   "source": []
  }
 ],
 "metadata": {
  "kernelspec": {
   "display_name": "Python 3",
   "language": "python",
   "name": "python3"
  },
  "language_info": {
   "codemirror_mode": {
    "name": "ipython",
    "version": 3
   },
   "file_extension": ".py",
   "mimetype": "text/x-python",
   "name": "python",
   "nbconvert_exporter": "python",
   "pygments_lexer": "ipython3",
   "version": "3.7.6"
  }
 },
 "nbformat": 4,
 "nbformat_minor": 4
}
