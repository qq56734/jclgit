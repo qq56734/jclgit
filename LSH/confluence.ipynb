{
 "cells": [
  {
   "cell_type": "code",
   "execution_count": 1,
   "metadata": {},
   "outputs": [],
   "source": [
    "from atlassian import Jira\n",
    "from atlassian import Confluence\n",
    "from atlassian import Bitbucket\n",
    "from atlassian import ServiceDesk\n",
    "\n",
    "confluence = Confluence(\n",
    "    url='http://docs.fscut.com',\n",
    "    username='jiangchenglin',\n",
    "    password='jcl565600')"
   ]
  },
  {
   "cell_type": "code",
   "execution_count": 113,
   "metadata": {},
   "outputs": [],
   "source": [
    "import re\n",
    "findword = '7.23.*</td>.*</tr>'\n",
    "\n",
    "content = page_info['body']['view']['value']\n",
    "\n",
    "dayreport = re.search((findword), content)\n",
    "\n",
    "findword  = '(<td.*>).*(</td>)'\n",
    "\n",
    "pattern = re.compile(findword)\n",
    "\n",
    "dayreport_words  = pattern.findall(dayreport[0])"
   ]
  },
  {
   "cell_type": "code",
   "execution_count": 29,
   "metadata": {},
   "outputs": [],
   "source": [
    "ids = []\n",
    "\n",
    "for i in range (6):\n",
    "\n",
    "    page_dicts = confluence.get_all_pages_from_space('~oa', start=i*100, limit=(i+1)*100, status=None, expand='body', content_type='page')\n",
    "    for page_dict in page_dicts:\n",
    "        ids.append(page_dict['id'])"
   ]
  },
  {
   "cell_type": "code",
   "execution_count": 18,
   "metadata": {},
   "outputs": [],
   "source": [
    "with open(r'C:\\Users\\fscut\\Desktop\\OA讨论\\id_confluence.txt', \"w\", encoding=\"utf-8\") as f:\n",
    "    for id in ids:\n",
    "        f.write(str(id)+\"\\n\")\n",
    "        "
   ]
  },
  {
   "cell_type": "code",
   "execution_count": 20,
   "metadata": {},
   "outputs": [
    {
     "data": {
      "text/plain": [
       "{'id': '53489208',\n",
       " 'type': 'page',\n",
       " 'status': 'current',\n",
       " 'title': '出差记录(刘洋 2019-10-29 22:30)',\n",
       " 'space': {'id': 54132737,\n",
       "  'key': '~oa',\n",
       "  'name': 'OA',\n",
       "  'type': 'personal',\n",
       "  '_links': {'webui': '/spaces/viewspace.action?key=~oa',\n",
       "   'self': 'http://docs.fscut.com/rest/api/space/~oa'},\n",
       "  '_expandable': {'metadata': '',\n",
       "   'icon': '',\n",
       "   'description': '',\n",
       "   'homepage': '/rest/api/content/53478458'}},\n",
       " 'version': {'by': {'type': 'known',\n",
       "   'username': 'oa',\n",
       "   'userKey': 'ff80808172bc320e0172c70a96c30000',\n",
       "   'profilePicture': {'path': '/images/icons/profilepics/default.svg',\n",
       "    'width': 48,\n",
       "    'height': 48,\n",
       "    'isDefault': True},\n",
       "   'displayName': 'OA',\n",
       "   '_links': {'self': 'http://docs.fscut.com/rest/api/user?key=ff80808172bc320e0172c70a96c30000'},\n",
       "   '_expandable': {'status': ''}},\n",
       "  'when': '2020-07-10T20:06:26.000+08:00',\n",
       "  'message': '',\n",
       "  'number': 1,\n",
       "  'minorEdit': False,\n",
       "  'hidden': False,\n",
       "  '_links': {'self': 'http://docs.fscut.com/rest/experimental/content/53489208/version/1'},\n",
       "  '_expandable': {'content': '/rest/api/content/53489208'}},\n",
       " 'container': {'id': 54132737,\n",
       "  'key': '~oa',\n",
       "  'name': 'OA',\n",
       "  'type': 'personal',\n",
       "  '_links': {'webui': '/spaces/viewspace.action?key=~oa',\n",
       "   'self': 'http://docs.fscut.com/rest/api/space/~oa'},\n",
       "  '_expandable': {'metadata': '',\n",
       "   'icon': '',\n",
       "   'description': '',\n",
       "   'homepage': '/rest/api/content/53478458'}},\n",
       " 'body': {'view': {'value': '<div class=\"table-wrap\"><table class=\"confluenceTable\"><p style=\"text-align: center;\">出差记录</p><tbody><tr><th width=\"100\" class=\"confluenceTh\">客户</th><td class=\"confluenceTd\">迅镭</td></tr><tr><th width=\"100\" class=\"confluenceTh\">出差目的</th><td class=\"confluenceTd\">调试5000A双卡盘+安川电机</td></tr><tr><th width=\"100\" class=\"confluenceTh\">内容</th><td class=\"confluenceTd\">1.这台机器是双进给Y轴+双卡盘+安川总线电机+绝对值编码器，安川过去的人是个代理，技术不怎么行。\\n2.刘希涛是切管主管，这台机器是刘工的朋友订的，而且这台机器要和宏山的切管机拼快慢（性能），所以刘工很上心。\\n3.迅镭切管机的市场的对手只有宏山，基本没见过金运的切管机，听说金运3kw切管机不到80w，迅镭3kw切管机要100w左右。\\n4.据刘工所说，如果是迅镭的老客户买宏山切管机的话，宏山会先直接便宜20·30万。</td></tr><tr><th width=\"100\" class=\"confluenceTh\">问题</th><td class=\"confluenceTd\">1.安川总线驱动添加外置电阻。\\n--功率越大，阻值越小，外置电阻的阻值要小于等于内置电阻阻值，修改伺服参数的pn600和pn603把再生电阻容量和再生电阻阻值填进去，填进去的时候注意单位（容量单位是10w，阻值单位是10毫欧）。安川Ethercat总线各功率对应内置电阻如图一；\\n2.双卡盘夹管材旋转的时候，可以很明显看到双卡盘不同步（卡盘卡爪夹持管材的地方有别位的痕迹，如图二）；\\n--来回步进，可以听到换向的时候卡盘有明显咯噔的声音，打双B轴的反向间隙，B1轴10丝反向间隙，B2轴6丝反向间隙，重新安装B轴电机后解决了B轴反向间隙的问题，但双B轴还是明显不同步。后通过监控双B轴的反馈速度，发现双B轴的反馈速度延时有0.007s，旁边正常机床只有0.001s；后检查伺服参数，发现安川自整定惯量比的时候，把pn160的A型抑振控制和pn的模型追踪开启了，后来把pn160的A型抑振控制关闭，pn141模型追踪控制增益改为200.0hz，pn147模型追踪控制速度前馈补偿改为100.0%，不同步的现象消失。\\n--同步和不同步的时候，全局参数测试出的系统延时是不一样的；不同步时，全局参数里测出的系统延时在几万左右，如图三；同步时，全局参数里测出系统延时在一万以内，如图四。\\n3.串口控制的恩耐激光器，开启软件后，需要开关两次光闸才可以开启恩耐激光器的光闸，感觉软件控制恩耐激光器的时序有问题，需要王威确认一下。\\n4.发现旁边迅镭的调试人员在调试三卡盘切圆的时候，还在用松下自整定在推算各轴的增益，很费时间，帮他们都调到了17级，再根据软件里的误差测定微调增益，切出来的圆很快就好了，他们就很爽，之后会出个切管机调增益的教程给他们。</td></tr><tr><th width=\"100\" class=\"confluenceTh\">需求</th><td class=\"confluenceTd\" /></tr><tr><th width=\"100\" class=\"confluenceTh\">建议</th><td class=\"confluenceTd\" /></tr></tbody></table></div>',\n",
       "   'representation': 'storage',\n",
       "   '_expandable': {'webresource': '',\n",
       "    'content': '/rest/api/content/53489208'}},\n",
       "  '_expandable': {'editor': '',\n",
       "   'export_view': '',\n",
       "   'styled_view': '',\n",
       "   'storage': '',\n",
       "   'anonymous_export_view': ''}},\n",
       " 'extensions': {'position': 'none'},\n",
       " '_links': {'webui': '/pages/viewpage.action?pageId=53489208',\n",
       "  'edit': '/pages/resumedraft.action?draftId=53489208',\n",
       "  'tinyui': '/x/OC4wAw',\n",
       "  'collection': '/rest/api/content',\n",
       "  'base': 'http://docs.fscut.com',\n",
       "  'context': '',\n",
       "  'self': 'http://docs.fscut.com/rest/api/content/53489208'},\n",
       " '_expandable': {'metadata': '',\n",
       "  'operations': '',\n",
       "  'children': '/rest/api/content/53489208/child',\n",
       "  'restrictions': '/rest/api/content/53489208/restriction/byOperation',\n",
       "  'history': '/rest/api/content/53489208/history',\n",
       "  'ancestors': '',\n",
       "  'descendants': '/rest/api/content/53489208/descendant'}}"
      ]
     },
     "execution_count": 20,
     "metadata": {},
     "output_type": "execute_result"
    }
   ],
   "source": [
    "page_info"
   ]
  },
  {
   "cell_type": "code",
   "execution_count": 26,
   "metadata": {},
   "outputs": [
    {
     "name": "stdout",
     "output_type": "stream",
     "text": [
      "出差记录客户迅镭出差目的调试5000A双卡盘+安川电机内容1.这台机器是双进给Y轴+双卡盘+安川总线电机+绝对值编码器，安川过去的人是个代理，技术不怎么行。\n",
      "2.刘希涛是切管主管，这台机器是刘工的朋友订的，而且这台机器要和宏山的切管机拼快慢（性能），所以刘工很上心。\n",
      "3.迅镭切管机的市场的对手只有宏山，基本没见过金运的切管机，听说金运3kw切管机不到80w，迅镭3kw切管机要100w左右。\n",
      "4.据刘工所说，如果是迅镭的老客户买宏山切管机的话，宏山会先直接便宜20·30万。问题1.安川总线驱动添加外置电阻。\n",
      "--功率越大，阻值越小，外置电阻的阻值要小于等于内置电阻阻值，修改伺服参数的pn600和pn603把再生电阻容量和再生电阻阻值填进去，填进去的时候注意单位（容量单位是10w，阻值单位是10毫欧）。安川Ethercat总线各功率对应内置电阻如图一；\n",
      "2.双卡盘夹管材旋转的时候，可以很明显看到双卡盘不同步（卡盘卡爪夹持管材的地方有别位的痕迹，如图二）；\n",
      "--来回步进，可以听到换向的时候卡盘有明显咯噔的声音，打双B轴的反向间隙，B1轴10丝反向间隙，B2轴6丝反向间隙，重新安装B轴电机后解决了B轴反向间隙的问题，但双B轴还是明显不同步。后通过监控双B轴的反馈速度，发现双B轴的反馈速度延时有0.007s，旁边正常机床只有0.001s；后检查伺服参数，发现安川自整定惯量比的时候，把pn160的A型抑振控制和pn的模型追踪开启了，后来把pn160的A型抑振控制关闭，pn141模型追踪控制增益改为200.0hz，pn147模型追踪控制速度前馈补偿改为100.0%，不同步的现象消失。\n",
      "--同步和不同步的时候，全局参数测试出的系统延时是不一样的；不同步时，全局参数里测出的系统延时在几万左右，如图三；同步时，全局参数里测出系统延时在一万以内，如图四。\n",
      "3.串口控制的恩耐激光器，开启软件后，需要开关两次光闸才可以开启恩耐激光器的光闸，感觉软件控制恩耐激光器的时序有问题，需要王威确认一下。\n",
      "4.发现旁边迅镭的调试人员在调试三卡盘切圆的时候，还在用松下自整定在推算各轴的增益，很费时间，帮他们都调到了17级，再根据软件里的误差测定微调增益，切出来的圆很快就好了，他们就很爽，之后会出个切管机调增益的教程给他们。需求建议\n"
     ]
    }
   ],
   "source": [
    "import re\n",
    "dr = re.compile(r'<[^>]+>',re.S)\n",
    "dd = dr.sub('',page_info['body']['view']['value'])\n",
    "print(dd)\n",
    "\n"
   ]
  },
  {
   "cell_type": "code",
   "execution_count": 70,
   "metadata": {},
   "outputs": [
    {
     "data": {
      "text/plain": [
       "'出差记录客户迅镭出差目的调试5000A双卡盘+安川电机内容1.这台机器是双进给Y轴+双卡盘+安川总线电机+绝对值编码器，安川过去的人是个代理，技术不怎么行。2.刘希涛是切管主管，这台机器是刘工的朋友订的，而且这台机器要和宏山的切管机拼快慢（性能），所以刘工很上心。3.迅镭切管机的市场的对手只有宏山，基本没见过金运的切管机，听说金运3kw切管机不到80w，迅镭3kw切管机要100w左右。4.据刘工所说，如果是迅镭的老客户买宏山切管机的话，宏山会先直接便宜20·30万。问题1.安川总线驱动添加外置电阻。--功率越大，阻值越小，外置电阻的阻值要小于等于内置电阻阻值，修改伺服参数的pn600和pn603把再生电阻容量和再生电阻阻值填进去，填进去的时候注意单位（容量单位是10w，阻值单位是10毫欧）。安川Ethercat总线各功率对应内置电阻如图一；2.双卡盘夹管材旋转的时候，可以很明显看到双卡盘不同步（卡盘卡爪夹持管材的地方有别位的痕迹，如图二）；--来回步进，可以听到换向的时候卡盘有明显咯噔的声音，打双B轴的反向间隙，B1轴10丝反向间隙，B2轴6丝反向间隙，重新安装B轴电机后解决了B轴反向间隙的问题，但双B轴还是明显不同步。后通过监控双B轴的反馈速度，发现双B轴的反馈速度延时有0.007s，旁边正常机床只有0.001s；后检查伺服参数，发现安川自整定惯量比的时候，把pn160的A型抑振控制和pn的模型追踪开启了，后来把pn160的A型抑振控制关闭，pn141模型追踪控制增益改为200.0hz，pn147模型追踪控制速度前馈补偿改为100.0%，不同步的现象消失。--同步和不同步的时候，全局参数测试出的系统延时是不一样的；不同步时，全局参数里测出的系统延时在几万左右，如图三；同步时，全局参数里测出系统延时在一万以内，如图四。3.串口控制的恩耐激光器，开启软件后，需要开关两次光闸才可以开启恩耐激光器的光闸，感觉软件控制恩耐激光器的时序有问题，需要王威确认一下。4.发现旁边迅镭的调试人员在调试三卡盘切圆的时候，还在用松下自整定在推算各轴的增益，很费时间，帮他们都调到了17级，再根据软件里的误差测定微调增益，切出来的圆很快就好了，他们就很爽，之后会出个切管机调增益的教程给他们。需求建议'"
      ]
     },
     "execution_count": 70,
     "metadata": {},
     "output_type": "execute_result"
    }
   ],
   "source": [
    " ''.join(dd.split('\\n'))"
   ]
  },
  {
   "cell_type": "code",
   "execution_count": 65,
   "metadata": {},
   "outputs": [],
   "source": [
    "import pandas as pd\n",
    "\n",
    "word_fre = pd.read_csv(r'C:\\Users\\fscut\\Desktop\\OA讨论\\word_fre\\word_fre.csv', names = ['word', 'fre'])\n",
    "    \n",
    "word_fre = word_fre.set_index('word')['fre'].to_dict()"
   ]
  },
  {
   "cell_type": "code",
   "execution_count": 85,
   "metadata": {},
   "outputs": [],
   "source": [
    "import re\n",
    "import jieba\n",
    "\n",
    "#0-500, 500-589\n",
    "\n",
    "for i in range(500,589):\n",
    "    id = ids[i]\n",
    "    page_info = confluence.get_page_by_id(id, expand = 'space,body.view,version,container')\n",
    "    dr = re.compile(r'<[^>]+>',re.S)\n",
    "    content = page_info['title'] + dr.sub('',page_info['body']['view']['value'])\n",
    "    #with open(r'C:\\Users\\fscut\\Desktop\\OA讨论\\reports\\\\' + id + \".txt\", \"w\", encoding=\"utf-8\") as f:\n",
    "        #f.write(content)\n",
    "    content = ''.join(content.split('\\n'))\n",
    "        \n",
    "    seg_list = jieba.cut(content)\n",
    "    for word in seg_list:\n",
    "        if len(word) > 1 and word != '\\r\\n':\n",
    "            if word in word_fre.keys():\n",
    "                word_fre[word] += 1\n",
    "            else :\n",
    "                word_fre[word] = 1\n",
    "                \n",
    "                \n",
    "            \n",
    "    \n",
    "    "
   ]
  },
  {
   "cell_type": "code",
   "execution_count": 86,
   "metadata": {},
   "outputs": [],
   "source": [
    "with open(r'C:\\Users\\fscut\\Desktop\\OA讨论\\word_fre\\\\' + \"word_fre\" + \".csv\", \"w\", encoding=\"utf-8\", newline='') as f:\n",
    "    csv_writer = csv.writer(f)\n",
    "    for word in word_fre :\n",
    "        csv_writer.writerow([word, word_fre[word]])"
   ]
  },
  {
   "cell_type": "code",
   "execution_count": 3,
   "metadata": {},
   "outputs": [],
   "source": []
  }
 ],
 "metadata": {
  "kernelspec": {
   "display_name": "Python 3",
   "language": "python",
   "name": "python3"
  },
  "language_info": {
   "codemirror_mode": {
    "name": "ipython",
    "version": 3
   },
   "file_extension": ".py",
   "mimetype": "text/x-python",
   "name": "python",
   "nbconvert_exporter": "python",
   "pygments_lexer": "ipython3",
   "version": "3.7.6"
  }
 },
 "nbformat": 4,
 "nbformat_minor": 4
}
