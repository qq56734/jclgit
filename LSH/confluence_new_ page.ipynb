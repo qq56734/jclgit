{
 "cells": [
  {
   "cell_type": "code",
   "execution_count": 1,
   "metadata": {},
   "outputs": [],
   "source": [
    "from atlassian import Jira\n",
    "from atlassian import Confluence\n",
    "from atlassian import Bitbucket\n",
    "from atlassian import ServiceDesk\n",
    "\n",
    "confluence = Confluence(\n",
    "    url='http://docs.fscut.com',\n",
    "    username='jiangchenglin',\n",
    "    password='jcl565600')"
   ]
  },
  {
   "cell_type": "code",
   "execution_count": 66,
   "metadata": {},
   "outputs": [
    {
     "data": {
      "text/plain": [
       "{'id': '56431751',\n",
       " 'type': 'page',\n",
       " 'status': 'current',\n",
       " 'title': 'test2',\n",
       " 'space': {'id': 54132754,\n",
       "  'key': '~jiangchenglin',\n",
       "  'name': '姜成林',\n",
       "  'type': 'personal',\n",
       "  '_links': {'webui': '/spaces/viewspace.action?key=~jiangchenglin',\n",
       "   'self': 'http://docs.fscut.com/rest/api/space/~jiangchenglin'},\n",
       "  '_expandable': {'metadata': '',\n",
       "   'icon': '',\n",
       "   'description': '',\n",
       "   'homepage': '/rest/api/content/53489891'}},\n",
       " 'history': {'latest': True,\n",
       "  'createdBy': {'type': 'known',\n",
       "   'username': 'jiangchenglin',\n",
       "   'userKey': 'ff80808172bc320e0173470a06760012',\n",
       "   'profilePicture': {'path': '/download/attachments/53489618/user-avatar',\n",
       "    'width': 48,\n",
       "    'height': 48,\n",
       "    'isDefault': False},\n",
       "   'displayName': '姜成林',\n",
       "   '_links': {'self': 'http://docs.fscut.com/rest/api/user?key=ff80808172bc320e0173470a06760012'},\n",
       "   '_expandable': {'status': ''}},\n",
       "  'createdDate': '2020-07-28T17:17:51.948+08:00',\n",
       "  '_links': {'self': 'http://docs.fscut.com/rest/api/content/56431751/history'},\n",
       "  '_expandable': {'lastUpdated': '',\n",
       "   'previousVersion': '',\n",
       "   'contributors': '',\n",
       "   'nextVersion': ''}},\n",
       " 'version': {'by': {'type': 'known',\n",
       "   'username': 'jiangchenglin',\n",
       "   'userKey': 'ff80808172bc320e0173470a06760012',\n",
       "   'profilePicture': {'path': '/download/attachments/53489618/user-avatar',\n",
       "    'width': 48,\n",
       "    'height': 48,\n",
       "    'isDefault': False},\n",
       "   'displayName': '姜成林',\n",
       "   '_links': {'self': 'http://docs.fscut.com/rest/api/user?key=ff80808172bc320e0173470a06760012'},\n",
       "   '_expandable': {'status': ''}},\n",
       "  'when': '2020-07-28T17:17:51.948+08:00',\n",
       "  'message': '',\n",
       "  'number': 1,\n",
       "  'minorEdit': False,\n",
       "  'hidden': False,\n",
       "  '_links': {'self': 'http://docs.fscut.com/rest/experimental/content/56431751/version/1'},\n",
       "  '_expandable': {'content': '/rest/api/content/56431751'}},\n",
       " 'ancestors': [{'id': '53489891',\n",
       "   'type': 'page',\n",
       "   'status': 'current',\n",
       "   'title': '姜成林的主页',\n",
       "   'extensions': {'position': 'none'},\n",
       "   '_links': {'webui': '/pages/viewpage.action?pageId=53489891',\n",
       "    'edit': '/pages/resumedraft.action?draftId=53489891',\n",
       "    'tinyui': '/x/4zAwAw',\n",
       "    'self': 'http://docs.fscut.com/rest/api/content/53489891'},\n",
       "   '_expandable': {'container': '/rest/api/space/~jiangchenglin',\n",
       "    'metadata': '',\n",
       "    'operations': '',\n",
       "    'children': '/rest/api/content/53489891/child',\n",
       "    'restrictions': '/rest/api/content/53489891/restriction/byOperation',\n",
       "    'history': '/rest/api/content/53489891/history',\n",
       "    'ancestors': '',\n",
       "    'body': '',\n",
       "    'version': '',\n",
       "    'descendants': '/rest/api/content/53489891/descendant',\n",
       "    'space': '/rest/api/space/~jiangchenglin'}},\n",
       "  {'id': '53490505',\n",
       "   'type': 'page',\n",
       "   'status': 'current',\n",
       "   'title': '2020.07日志',\n",
       "   'extensions': {'position': 'none'},\n",
       "   '_links': {'webui': '/pages/viewpage.action?pageId=53490505',\n",
       "    'edit': '/pages/resumedraft.action?draftId=53490505&draftShareId=7d8d9c14-cfb8-47a8-8acf-8bc01c00c432',\n",
       "    'tinyui': '/x/STMwAw',\n",
       "    'self': 'http://docs.fscut.com/rest/api/content/53490505'},\n",
       "   '_expandable': {'container': '/rest/api/space/~jiangchenglin',\n",
       "    'metadata': '',\n",
       "    'operations': '',\n",
       "    'children': '/rest/api/content/53490505/child',\n",
       "    'restrictions': '/rest/api/content/53490505/restriction/byOperation',\n",
       "    'history': '/rest/api/content/53490505/history',\n",
       "    'ancestors': '',\n",
       "    'body': '',\n",
       "    'version': '',\n",
       "    'descendants': '/rest/api/content/53490505/descendant',\n",
       "    'space': '/rest/api/space/~jiangchenglin'}}],\n",
       " 'container': {'id': 54132754,\n",
       "  'key': '~jiangchenglin',\n",
       "  'name': '姜成林',\n",
       "  'type': 'personal',\n",
       "  '_links': {'webui': '/spaces/viewspace.action?key=~jiangchenglin',\n",
       "   'self': 'http://docs.fscut.com/rest/api/space/~jiangchenglin'},\n",
       "  '_expandable': {'metadata': '',\n",
       "   'icon': '',\n",
       "   'description': '',\n",
       "   'homepage': '/rest/api/content/53489891'}},\n",
       " 'body': {'storage': {'value': '<p class=\"auto-cursor-target\">辛苦了一天，放下疲惫，闭上眼睛，来回忆下你今日的工作内容吧！    <span style=\"color: rgb(255,153,0);\">（一日事一日毕，日报请当天完成，最晚不晚于第二天9:30哦，每天10:00会进行通报哈）</span></p><div class=\"table-wrap\">    <table class=\"relative-table wrapped confluenceTable\" style=\"width: 100.0%;\">        <colgroup>            <col style=\"width: 3.10249%;\" />            <col style=\"width: 4.21053%;\" />            <col style=\"width: 9.75069%;\" />            <col style=\"width: 16.9529%;\" />            <col style=\"width: 24.2659%;\" />            <col style=\"width: 31.1357%;\" />            <col style=\"width: 2.32687%;\" />            <col style=\"width: 8.25485%;\" />        </colgroup>        <tbody>            <tr>                <th class=\"confluenceTh\">序号</th>                <th class=\"confluenceTh\">                    <div class=\"content-wrapper\">                        <p>姓名</p>                    </div>                </th>                <th class=\"confluenceTh\">所在产品组</th>                <th colspan=\"1\" class=\"confluenceTh\">今日原定计划</th>                <th colspan=\"1\" class=\"confluenceTh\">今日实际进展</th>                <th colspan=\"1\" class=\"confluenceTh\">明日计划</th>                <th class=\"confluenceTh\">协调问题</th>                <th class=\"confluenceTh\">其他说明（需要的协助或其他需要特别说明的事项）</th>            </tr><tr><td class=\"confluenceTd\"><br /></td><td class=\"confluenceTd\"><br /></td><td class=\"confluenceTd\"><br /></td><td class=\"confluenceTd\" colspan=\"1\"><ol><li>看看能不能修复曲线段与段之间过渡时冲击大问题。</li><li>整理DXF图库，多跑几个图测试ALG603.</li><li>修改算法接口，归纳整理图形处理类接口。</li><li>沟通商务发货的事情。</li><li>安排ALGM1.DLL注释和格式整理，安排培训文档任务分配。</li></ol></td><td class=\"confluenceTd\" colspan=\"1\"><p>1.沟通商务发货的事情。</p><p>2.安排ALGM1.DLL注释和格式整理，安排培训文档任务分配。</p><p>3.修改算法接口，归纳整理图形处理类接口。</p><p>4.修改曲线衔接，小圆等各种ALG6冲击大的问题。</p><p>5.看石斌写的断点继续方案文档。</p></td><td class=\"confluenceTd\"><br /></td><td class=\"confluenceTd\"><br /></td><td class=\"confluenceTd\"><br /></td></tr></tbody>    </table></div><p>    <br />    <br />    <br />    <br />    <br /></p>',\n",
       "   'representation': 'storage',\n",
       "   '_expandable': {'content': '/rest/api/content/56431751'}},\n",
       "  '_expandable': {'editor': '',\n",
       "   'view': '',\n",
       "   'export_view': '',\n",
       "   'styled_view': '',\n",
       "   'anonymous_export_view': ''}},\n",
       " 'extensions': {'position': 'none'},\n",
       " '_links': {'webui': '/display/~jiangchenglin/test2',\n",
       "  'edit': '/pages/resumedraft.action?draftId=56431751',\n",
       "  'tinyui': '/x/hxRdAw',\n",
       "  'collection': '/rest/api/content',\n",
       "  'base': 'http://docs.fscut.com',\n",
       "  'context': '',\n",
       "  'self': 'http://docs.fscut.com/rest/api/content/56431751'},\n",
       " '_expandable': {'metadata': '',\n",
       "  'operations': '',\n",
       "  'children': '/rest/api/content/56431751/child',\n",
       "  'restrictions': '/rest/api/content/56431751/restriction/byOperation',\n",
       "  'descendants': '/rest/api/content/56431751/descendant'}}"
      ]
     },
     "execution_count": 66,
     "metadata": {},
     "output_type": "execute_result"
    }
   ],
   "source": [
    "title = 'test2'\n",
    "head = '<p class=\"auto-cursor-target\">辛苦了一天，放下疲惫，闭上眼睛，来回忆下你今日的工作内容吧！\\\n",
    "    <span style=\"color: rgb(255,153,0);\">（一日事一日毕，日报请当天完成，最晚不晚于第二天9:30哦，每天10:00会进行通报哈）</span>\\\n",
    "</p>\\\n",
    "<div class=\"table-wrap\">\\\n",
    "    <table class=\"relative-table wrapped confluenceTable\" style=\"width: 100.0%;\">\\\n",
    "        <colgroup>\\\n",
    "            <col style=\"width: 3.10249%;\"/>\\\n",
    "            <col style=\"width: 4.21053%;\"/>\\\n",
    "            <col style=\"width: 9.75069%;\"/>\\\n",
    "            <col style=\"width: 16.9529%;\"/>\\\n",
    "            <col style=\"width: 24.2659%;\"/>\\\n",
    "            <col style=\"width: 31.1357%;\"/>\\\n",
    "            <col style=\"width: 2.32687%;\"/>\\\n",
    "            <col style=\"width: 8.25485%;\"/>\\\n",
    "        </colgroup>\\\n",
    "        <tbody>\\\n",
    "            <tr>\\\n",
    "                <th class=\"confluenceTh\">序号</th>\\\n",
    "                <th class=\"confluenceTh\">\\\n",
    "                    <div class=\"content-wrapper\">\\\n",
    "                        <p>姓名</p>\\\n",
    "                    </div>\\\n",
    "                </th>\\\n",
    "                <th class=\"confluenceTh\">所在产品组</th>\\\n",
    "                <th colspan=\"1\" class=\"confluenceTh\">今日原定计划</th>\\\n",
    "                <th colspan=\"1\" class=\"confluenceTh\">今日实际进展</th>\\\n",
    "                <th colspan=\"1\" class=\"confluenceTh\">明日计划</th>\\\n",
    "                <th class=\"confluenceTh\">协调问题</th>\\\n",
    "                <th class=\"confluenceTh\">其他说明（需要的协助或其他需要特别说明的事项）</th>\\\n",
    "            </tr>'\n",
    "body = '<tr><td class=\"confluenceTd\"><br/></td><td class=\"confluenceTd\"><br/></td><td class=\"confluenceTd\"><br/></td>' + line + \\\n",
    "'<td class=\"confluenceTd\"><br/></td><td class=\"confluenceTd\"><br/></td><td class=\"confluenceTd\"><br/></td></tr>'\n",
    "tail =         '</tbody>\\\n",
    "    </table>\\\n",
    "</div>\\\n",
    "<p>\\\n",
    "    <br/>\\\n",
    "    <br/>\\\n",
    "    <br/>\\\n",
    "    <br/>\\\n",
    "    <br/>\\\n",
    "</p>'\n",
    "\n",
    "confluence.create_page('~jiangchenglin', title, body = head + body + tail, parent_id= '53490505', type='page', representation='storage')"
   ]
  },
  {
   "cell_type": "code",
   "execution_count": 5,
   "metadata": {},
   "outputs": [
    {
     "data": {
      "text/plain": [
       "'56431751'"
      ]
     },
     "execution_count": 5,
     "metadata": {},
     "output_type": "execute_result"
    }
   ],
   "source": [
    "confluence.get_page_id('~jiangchenglin', 'test2')"
   ]
  },
  {
   "cell_type": "code",
   "execution_count": 11,
   "metadata": {},
   "outputs": [],
   "source": [
    " id = confluence.get_page_id('~xiemiao','2020.4工作日志')"
   ]
  },
  {
   "cell_type": "code",
   "execution_count": 8,
   "metadata": {},
   "outputs": [],
   "source": [
    "page_info = confluence.get_page_by_id(id, expand = 'space,body.view,version,container')\n",
    "content = page_info['body']['view']['value']"
   ]
  },
  {
   "cell_type": "code",
   "execution_count": 9,
   "metadata": {},
   "outputs": [
    {
     "data": {
      "text/plain": [
       "'<div class=\"table-wrap\"><table class=\"wrapped confluenceTable\"><colgroup><col style=\"width: 139.0px;\"/><col style=\"width: 553.0px;\"/><col style=\"width: 1078.0px;\"/></colgroup><tbody><tr><th class=\"confluenceTh\">日期</th><th class=\"confluenceTh\">工作内容</th><th class=\"confluenceTh\">工作总结</th></tr><tr><td class=\"confluenceTd\">4.1</td><td class=\"confluenceTd\">1.继续搞新的拐角平滑方案。先尝试把图形改成若干段C2连续的图形进行拆分。</td><td class=\"confluenceTd\"><ol><li>ALG6架构等价修改，把图形改成若干段C2连续的图形进行拆分，支持不连续Param插补。</li><li>协助沟通了一下商务烧录工控机流程的事。</li><li>开会讨论寻边的方案。</li></ol></td></tr><tr><td class=\"confluenceTd\">4.2</td><td class=\"confluenceTd\"><span>1.继续搞新的拐角平滑方案。尝试嵌入规划的拐角时间片。</span></td><td class=\"confluenceTd\"><ol><li><span style=\"color: rgb(20,20,20);\">思考并写文档拐角平滑的椭圆补偿、3次曲线补偿方案</span></li></ol></td></tr><tr><td colspan=\"1\" class=\"confluenceTd\">4.3</td><td colspan=\"1\" class=\"confluenceTd\"><p>1.继续写3次曲线补偿方案。</p></td><td colspan=\"1\" class=\"confluenceTd\"><p><span>1.继续写3次曲线补偿方案。</span></p><p><span>2.清明节期间把不等式求解推导搞定了。</span></p></td></tr><tr><td colspan=\"1\" class=\"confluenceTd\">4.7</td><td colspan=\"1\" class=\"confluenceTd\">1.把3次曲线补偿方案仔细再审查一遍，然后准备代码实现。</td><td colspan=\"1\" class=\"confluenceTd\"><p>1.代码实现3次曲线补偿方案，发现存在一个原理性问题，需要再重新回头改文档。</p></td></tr><tr><td colspan=\"1\" class=\"confluenceTd\">4.8</td><td colspan=\"1\" class=\"confluenceTd\">1.修正<span>3次曲线补偿方案。</span></td><td colspan=\"1\" class=\"confluenceTd\"><ol><li>重做了第3版3次曲线拐角补偿方案，失败了。</li></ol></td></tr><tr><td colspan=\"1\" class=\"confluenceTd\">4.9</td><td colspan=\"1\" class=\"confluenceTd\"><ol><li><span>尝试第4版3次曲线拐角补偿方案.</span></li></ol></td><td colspan=\"1\" class=\"confluenceTd\"><ol><li>第4版3次曲线拐角补偿方案初步验证成功。在MATLAB上验证，以err=0.1,A=1G,J=20W为例，相比ALG3.5（最大拐弯速度20mm/s），可以提升到最大拐弯速度30mm/s</li></ol></td></tr><tr><td colspan=\"1\" class=\"confluenceTd\">4.10</td><td colspan=\"1\" class=\"confluenceTd\"><ol><li>再次仔细审查一遍公式，整理推导过程文档</li></ol></td><td colspan=\"1\" class=\"confluenceTd\"><ol><li>完善文档《一种S型XY 轴各自速度规划的拐角替换算法》</li><li>完善Matlab算法m文件程序。</li><li>补充算法2处考虑不到的约束情况，增加了漂移误差参数，避免过弯时外扩过大。不过公式推导还不严谨。</li></ol></td></tr><tr><td colspan=\"1\" class=\"confluenceTd\">4.11</td><td colspan=\"1\" class=\"confluenceTd\"><ol><li>严谨的推导漂移误差公式。</li><li>研究算法在K极端情况的执行情况，优化算法逻辑。</li><li>写Matlab实验报告，测试参数在不同范围时的表现。</li><li>推导切入速度较小情况下的时间切片公式。</li></ol></td><td colspan=\"1\" class=\"confluenceTd\"><ol><li>尝试精确地推导漂移误差，失败了。</li></ol></td></tr><tr><td colspan=\"1\" class=\"confluenceTd\">4.13</td><td colspan=\"1\" class=\"confluenceTd\"><ol><li>研究算法在K极端情况的执行情况，优化算法逻辑。</li><li>写Matlab实验报告，测试参数在不同范围时的表现。</li><li>推导切入速度较小情况下的时间切片公式。</li></ol></td><td colspan=\"1\" class=\"confluenceTd\"><ol><li>修改了K极大的情况下，算法出现虚数的问题。</li><li>完善了MATLAB实验报告，对于每一个参数和过弯速度的关系，补充了数据和图表。</li><li>完成了推导切入速度较小情况下的时间切片公式。</li><li>初步实现了delphi算法模块代码，简易测试。</li><li>晚上加班写拐角替换流程。</li></ol></td></tr><tr><td colspan=\"1\" class=\"confluenceTd\">4.14</td><td colspan=\"1\" class=\"confluenceTd\"><ol><li>评估ALG6结构，实现拐角替换流程。</li></ol></td><td colspan=\"1\" class=\"confluenceTd\"><ol><li>初步把拐角切片增加到了ALG6上。存在很多问题:<br/>A. 矩形拐角速度会有波动，结束的时候A很大<br/>B. 锯齿第2角速度降为0.<br/>C.小图形加工各种报错。<br/>D.FCornerSmoothEnbale改False，加工矩形速度曲线不对。</li></ol></td></tr><tr><td colspan=\"1\" class=\"confluenceTd\">4.15</td><td colspan=\"1\" class=\"confluenceTd\">1.\\xa0修ALG6加了拐角功能后的各种BUG。</td><td colspan=\"1\" class=\"confluenceTd\"><p>BUGS:</p><ol><li><span>矩形拐角速度会有波动，结束的时候A很大(已修改)</span></li><li><span>小矩形，锯齿加工报错(<span>已修改</span>)</span></li><li>圆会加工2遍(已修改)。</li><li><span>圆加工到一半会降速为0.<span>(已修改)</span></span></li><li><span><span>圆结束的时候，加加速度没有完全降为0。(不用管)</span></span></li><li>锯齿改到Jerk=20W会报错。(已修改)</li></ol></td></tr><tr><td colspan=\"1\" class=\"confluenceTd\">4.16</td><td colspan=\"1\" class=\"confluenceTd\"><p>ALG6 BUGFIX:</p><ol><li>边长10的正6变形存在异常冲击。</li><li>边长100的正6变形显示不了编码反馈轨迹。</li><li>锯齿钝角冲击大。</li><li>锯齿第2角速度降为0.</li><li>FCornerSmoothEnbale改False，加工矩形速度曲线不对。</li><li>边长为2的6变形加工OutOfMemory。</li></ol></td><td colspan=\"1\" class=\"confluenceTd\"><p>ALG6 BUGFIX:</p><ol><li>边长10的正6变形存在异常冲击。<span>(已修改)</span></li><li>边长100的正6变形显示不了编码反馈轨迹。<span>(已修改)</span></li><li>锯齿钝角冲击大。(搞不定，很困难，想去死)</li><li>锯齿第2角速度降为0.</li><li>FCornerSmoothEnbale改False，加工矩形速度曲线不对。</li><li>边长为2的6变形加工OutOfMemory。</li></ol></td></tr><tr><td colspan=\"1\" class=\"confluenceTd\">4.17</td><td colspan=\"1\" class=\"confluenceTd\">1.思考锯齿钝角冲击大问题，分离接口，让陈晓桐协助一起开发</td><td colspan=\"1\" class=\"confluenceTd\"><ol><li>写文档论述SVA约束算法。</li><li>分离ALG6中现有的SVA约束算法。</li><li>画极点合并图。</li></ol></td></tr><tr><td colspan=\"1\" class=\"confluenceTd\">4.18</td><td colspan=\"1\" class=\"confluenceTd\"><ol><li>优化极点合并图，规划极点合并流程。</li></ol></td><td colspan=\"1\" class=\"confluenceTd\"><ol><li><span>优化极点合并图，重设计SVA约束核心算法流程。写文档。</span></li></ol></td></tr><tr><td colspan=\"1\" class=\"confluenceTd\">4.20</td><td colspan=\"1\" class=\"confluenceTd\"><ol><li>继续写<span>SVA约束算法文档。</span></li></ol></td><td colspan=\"1\" class=\"confluenceTd\"><ol><li><span>SVA约束算法文档基本写的还可以了。</span></li></ol></td></tr><tr><td colspan=\"1\" class=\"confluenceTd\">4.21</td><td colspan=\"1\" class=\"confluenceTd\"><ol><li>开始码代码，实现SVA约束算法。</li></ol></td><td colspan=\"1\" class=\"confluenceTd\"><ol><li>疯狂码代码，大约完成30%。</li></ol></td></tr><tr><td colspan=\"1\" class=\"confluenceTd\">4.22</td><td colspan=\"1\" class=\"confluenceTd\"><ol><li>继续疯狂码代码。</li></ol></td><td colspan=\"1\" class=\"confluenceTd\"><ol><li>写极点合并代码</li></ol></td></tr><tr><td colspan=\"1\" class=\"confluenceTd\">4.23</td><td colspan=\"1\" class=\"confluenceTd\"><ol><li>上午跟波刺的切割头项目组一起开会。</li><li>体验并沟通驱动优化的功能。</li><li>沟通平面坡口项目进展。</li><li>沟通气体标定功能优化的进展。</li></ol></td><td colspan=\"1\" class=\"confluenceTd\"><ol><li>上午跟波刺的切割头项目组一起开会。</li><li>体验并沟通驱动优化的功能。</li><li>沟通平面坡口项目进展。</li><li>沟通气体标定功能优化的进展。</li><li>稍微改了一下ALG6的合并极点算法</li></ol></td></tr><tr><td colspan=\"1\" class=\"confluenceTd\">4.24</td><td colspan=\"1\" class=\"confluenceTd\"><ol><li>集中精力修改ALG6合并极点的算法。</li></ol></td><td colspan=\"1\" class=\"confluenceTd\"><ol><li>初步修改了新的SVA约束算法，增加并简单测试了极点间MergeLeft方法。</li></ol></td></tr><tr><td colspan=\"1\" class=\"confluenceTd\">4.26</td><td colspan=\"1\" class=\"confluenceTd\"><ol><li>跟进近期CAM预研的一些情况，推进振动抑制碰板报警的事。</li><li>继续修改SVA约束算法。</li></ol></td><td colspan=\"1\" class=\"confluenceTd\"><ol><li>完善并测试了MergeLeft算法</li></ol></td></tr><tr><td colspan=\"1\" class=\"confluenceTd\">4.27</td><td colspan=\"1\" class=\"confluenceTd\"><ol><li><span>和江舟亚，徐超</span>讨论余料检测的方案和用户需求。</li><li>修改SVA约束算法中的极点合并逻辑流程。</li></ol></td><td colspan=\"1\" class=\"confluenceTd\"><ol><li>和多人讨论余料检测的方案和用户需求。</li></ol></td></tr><tr><td colspan=\"1\" class=\"confluenceTd\">4.28</td><td colspan=\"1\" class=\"confluenceTd\"><ol><li>修改SVA约束算法中的极点合并逻辑流程。</li></ol></td><td colspan=\"1\" class=\"confluenceTd\"><ol><li>修改极点合并算法中的各种BUG。目前仍存在一个NP小山型极点段类型判断错误的逻辑问题。</li></ol></td></tr><tr><td colspan=\"1\" class=\"confluenceTd\">4.29</td><td colspan=\"1\" class=\"confluenceTd\"><ol><li>思考并修改<span>NP小山型极点段类型判断错误的逻辑问题。</span></li></ol></td><td colspan=\"1\" class=\"confluenceTd\"><ol><li>思考NP小山型极点段类型判断错误的逻辑问题。</li><li>开会。</li><li>写能力组培养计划。</li></ol></td></tr><tr><td colspan=\"1\" class=\"confluenceTd\">4.30</td><td colspan=\"1\" class=\"confluenceTd\"><ol><li>能力组小组长会议。</li><li>思考并修改NP小山型极点段类型判断错误的逻辑问题。</li></ol></td><td colspan=\"1\" class=\"confluenceTd\"><ol><li>修改了判断极点类型时，Tf计算不正确的问题.</li><li>初步完成了SVA约束算法的封装以及和ALG603.dll的链接，测试工程可以跑一条直线没有报错。</li><li>能力组小组长会议，确定能力培养计划。</li></ol></td></tr><tr><td colspan=\"1\" class=\"confluenceTd\"><br/></td><td colspan=\"1\" class=\"confluenceTd\"><br/></td><td colspan=\"1\" class=\"confluenceTd\"><br/></td></tr><tr><td colspan=\"1\" class=\"confluenceTd\"><br/></td><td colspan=\"1\" class=\"confluenceTd\"><br/></td><td colspan=\"1\" class=\"confluenceTd\"><br/></td></tr><tr><td class=\"confluenceTd\">其他待定工作</td><td class=\"confluenceTd\"><ol><li><span style=\"color: rgb(51,51,51);\">移植圆度分析算法等。</span></li><li><span style=\"color: rgb(51,51,51);\">查找贝塞尔曲线加工时奇怪的内存问题以及拐角分析不对的问题。<br/></span></li></ol></td><td class=\"confluenceTd\"><br/></td></tr><tr><td class=\"confluenceTd\">ALG6待定工作计划</td><td class=\"confluenceTd\"><p>可能包括:</p><p>A.多线程安全性分析，加锁.</p><p>B.接口和Hypcut对接，实现可以跑基本图形。</p><p>C.增加并验证对割缝补偿连续微线段的Nurbs插值支持。</p><p>D.思考拐角处理的方式。</p><p>E.整理算法完全版的功能表。分类为基础级和应用级的。</p><p>F.移植ALG305XY最近优化的一些问题</p><p>G.长度为0的图形（含第一个）会出错。</p><p>H.增加安全保护模块。</p></td><td class=\"confluenceTd\"><br/></td></tr><tr><td class=\"confluenceTd\">工艺待定工作</td><td class=\"confluenceTd\">看有没有什么软件，能仿真同平均功率下，连续光和不同占空比脉冲光的材料热效应。</td><td class=\"confluenceTd\"><br/></td></tr></tbody></table></div>'"
      ]
     },
     "execution_count": 9,
     "metadata": {},
     "output_type": "execute_result"
    }
   ],
   "source": [
    "content\n"
   ]
  },
  {
   "cell_type": "code",
   "execution_count": null,
   "metadata": {},
   "outputs": [],
   "source": []
  },
  {
   "cell_type": "code",
   "execution_count": 5,
   "metadata": {},
   "outputs": [],
   "source": [
    "from bs4 import BeautifulSoup\n",
    "soup = BeautifulSoup(content,'lxml')\n"
   ]
  },
  {
   "cell_type": "code",
   "execution_count": 44,
   "metadata": {},
   "outputs": [
    {
     "name": "stdout",
     "output_type": "stream",
     "text": [
      "<td class=\"confluenceTd\" colspan=\"1\"><ol><li>看看能不能修复曲线段与段之间过渡时冲击大问题。</li><li>整理DXF图库，多跑几个图测试ALG603.</li><li>修改算法接口，归纳整理图形处理类接口。</li><li>沟通商务发货的事情。</li><li>安排ALGM1.DLL注释和格式整理，安排培训文档任务分配。</li></ol></td><td class=\"confluenceTd\" colspan=\"1\"><p>1.沟通商务发货的事情。</p><p>2.安排ALGM1.DLL注释和格式整理，安排培训文档任务分配。</p><p>3.修改算法接口，归纳整理图形处理类接口。</p><p>4.修改曲线衔接，小圆等各种ALG6冲击大的问题。</p><p>5.看石斌写的断点继续方案文档。</p></td>\n"
     ]
    }
   ],
   "source": [
    "line = ''\n",
    "\n",
    "for child in soup.find_all('table')[1].tbody.children:\n",
    "    if ('6.2' in child.contents[0]):\n",
    "        for c in child.contents[1:]:\n",
    "            line += str(c)\n",
    "print(line)  "
   ]
  },
  {
   "cell_type": "code",
   "execution_count": 16,
   "metadata": {},
   "outputs": [
    {
     "data": {
      "text/plain": [
       "[<tr><td class=\"confluenceTd\">XYZ驱动优化，推进到市场验收闭环完成</td><td class=\"confluenceTd\">王飞锦</td><td class=\"confluenceTd\" colspan=\"1\">D周</td><td class=\"confluenceTd\" colspan=\"1\"><p>客户现场验收完成</p></td></tr>,\n",
       " <tr><td class=\"confluenceTd\" colspan=\"1\">气路诊断数据搜集</td><td class=\"confluenceTd\" colspan=\"1\">徐军</td><td class=\"confluenceTd\" colspan=\"1\">D周</td><td class=\"confluenceTd\" colspan=\"1\">完成</td></tr>,\n",
       " <tr><td class=\"confluenceTd\" colspan=\"1\">超快模式原型机</td><td class=\"confluenceTd\" colspan=\"1\">谢淼、吴琦</td><td class=\"confluenceTd\" colspan=\"1\">暂无</td><td class=\"confluenceTd\" colspan=\"1\">概念</td></tr>,\n",
       " <tr><td class=\"confluenceTd\" colspan=\"1\">采用气路诊断测定气体关键延时</td><td class=\"confluenceTd\" colspan=\"1\">吴琦</td><td class=\"confluenceTd\" colspan=\"1\">D周</td><td class=\"confluenceTd\" colspan=\"1\">计划中</td></tr>,\n",
       " <tr><td class=\"confluenceTd\" colspan=\"1\">XYZ力矩碰撞保护功能默认开启，增加选项开关，推进到市场验收闭环完成</td><td class=\"confluenceTd\" colspan=\"1\">杨钊</td><td class=\"confluenceTd\" colspan=\"1\">D周</td><td class=\"confluenceTd\" colspan=\"1\"><span>修改中</span></td></tr>,\n",
       " <tr><td class=\"confluenceTd\" colspan=\"1\">STORY#4044,STORY#4153</td><td class=\"confluenceTd\" colspan=\"1\">杨钊</td><td class=\"confluenceTd\" colspan=\"1\"><br/></td><td class=\"confluenceTd\" colspan=\"1\">延期</td></tr>,\n",
       " <tr><td class=\"confluenceTd\" colspan=\"1\"><br/></td><td class=\"confluenceTd\" colspan=\"1\"><br/></td><td class=\"confluenceTd\" colspan=\"1\"><br/></td><td class=\"confluenceTd\" colspan=\"1\"><br/></td></tr>,\n",
       " <tr><td class=\"confluenceTd\" colspan=\"1\">任意图形的误差测定</td><td class=\"confluenceTd\" colspan=\"1\">吕彪</td><td class=\"confluenceTd\" colspan=\"1\">6月</td><td class=\"confluenceTd\" colspan=\"1\">已完成</td></tr>,\n",
       " <tr><td class=\"confluenceTd\" colspan=\"1\">随控一体推进到产品化阶段，具备普适、易用的特点。</td><td class=\"confluenceTd\" colspan=\"1\">鞠勇、黄超华</td><td class=\"confluenceTd\" colspan=\"1\">D周</td><td class=\"confluenceTd\" colspan=\"1\">等测试</td></tr>,\n",
       " <tr><td class=\"confluenceTd\" colspan=\"1\">管材坡口Matlab仿真实验报告</td><td class=\"confluenceTd\" colspan=\"1\">徐力宇</td><td class=\"confluenceTd\" colspan=\"1\">6月</td><td class=\"confluenceTd\" colspan=\"1\"><p><span>已完成，具体见</span></p><p><span><a href=\"/pages/viewpage.action?pageId=48450341\">1-管材坡口相关</a><br/></span></p></td></tr>,\n",
       " <tr><td class=\"confluenceTd\" colspan=\"1\">平面坡口Matlab仿真实验报告</td><td class=\"confluenceTd\" colspan=\"1\">徐力宇</td><td class=\"confluenceTd\" colspan=\"1\">6月</td><td class=\"confluenceTd\" colspan=\"1\"><p><span>已完成，具体见</span></p><p><a href=\"/pages/viewpage.action?pageId=48450352\">2-平面坡口相关</a></p></td></tr>,\n",
       " <tr><td class=\"confluenceTd\" colspan=\"1\">加速度传感器硬件</td><td class=\"confluenceTd\" colspan=\"1\">郑羽</td><td class=\"confluenceTd\" colspan=\"1\"><span>6月</span></td><td class=\"confluenceTd\" colspan=\"1\">等杨钊试用</td></tr>,\n",
       " <tr><td class=\"confluenceTd\" colspan=\"1\">思考RTOS结构是否可以改善时间切片缓冲数量，是否可以加速缓停的过程</td><td class=\"confluenceTd\" colspan=\"1\">谢淼</td><td class=\"confluenceTd\" colspan=\"1\"><br/></td><td class=\"confluenceTd\" colspan=\"1\">已经列入到鞠勇下半年OKR里面</td></tr>,\n",
       " <tr><td class=\"confluenceTd\" colspan=\"1\">6月20日前完成课程大纲</td><td class=\"confluenceTd\" colspan=\"1\">谢淼</td><td class=\"confluenceTd\" colspan=\"1\"><br/></td><td class=\"confluenceTd\" colspan=\"1\"><br/></td></tr>,\n",
       " <tr><td class=\"confluenceTd\" colspan=\"1\">完成CAM内涵外沿的清晰描述</td><td class=\"confluenceTd\" colspan=\"1\"><span>谢淼</span></td><td class=\"confluenceTd\" colspan=\"1\"><br/></td><td class=\"confluenceTd\" colspan=\"1\"><br/></td></tr>,\n",
       " <tr><td class=\"confluenceTd\" colspan=\"1\">割缝补偿优化，#STORY3655</td><td class=\"confluenceTd\" colspan=\"1\"><span>谢淼</span></td><td class=\"confluenceTd\" colspan=\"1\"><br/></td><td class=\"confluenceTd\" colspan=\"1\">等评审</td></tr>,\n",
       " <tr><td class=\"confluenceTd\" colspan=\"1\">PMS#4081验收</td><td class=\"confluenceTd\" colspan=\"1\"><span>谢淼</span></td><td class=\"confluenceTd\" colspan=\"1\"><br/></td><td class=\"confluenceTd\" colspan=\"1\"><br/></td></tr>,\n",
       " <tr><td class=\"confluenceTd\" colspan=\"1\"><br/></td><td class=\"confluenceTd\" colspan=\"1\"><br/></td><td class=\"confluenceTd\" colspan=\"1\"><br/></td><td class=\"confluenceTd\" colspan=\"1\"><br/></td></tr>,\n",
       " <tr><td class=\"confluenceTd\" colspan=\"1\"><br/></td><td class=\"confluenceTd\" colspan=\"1\"><br/></td><td class=\"confluenceTd\" colspan=\"1\"><br/></td><td class=\"confluenceTd\" colspan=\"1\"><br/></td></tr>]"
      ]
     },
     "execution_count": 16,
     "metadata": {},
     "output_type": "execute_result"
    }
   ],
   "source": [
    "soup.tbody.contents"
   ]
  },
  {
   "cell_type": "code",
   "execution_count": 15,
   "metadata": {},
   "outputs": [
    {
     "name": "stdout",
     "output_type": "stream",
     "text": [
      "[<td class=\"confluenceTd\">XYZ驱动优化，推进到市场验收闭环完成</td>, <td class=\"confluenceTd\">王飞锦</td>, <td class=\"confluenceTd\" colspan=\"1\">D周</td>, <td class=\"confluenceTd\" colspan=\"1\"><p>客户现场验收完成</p></td>]\n",
      "[<td class=\"confluenceTd\" colspan=\"1\">气路诊断数据搜集</td>, <td class=\"confluenceTd\" colspan=\"1\">徐军</td>, <td class=\"confluenceTd\" colspan=\"1\">D周</td>, <td class=\"confluenceTd\" colspan=\"1\">完成</td>]\n",
      "[<td class=\"confluenceTd\" colspan=\"1\">超快模式原型机</td>, <td class=\"confluenceTd\" colspan=\"1\">谢淼、吴琦</td>, <td class=\"confluenceTd\" colspan=\"1\">暂无</td>, <td class=\"confluenceTd\" colspan=\"1\">概念</td>]\n",
      "[<td class=\"confluenceTd\" colspan=\"1\">采用气路诊断测定气体关键延时</td>, <td class=\"confluenceTd\" colspan=\"1\">吴琦</td>, <td class=\"confluenceTd\" colspan=\"1\">D周</td>, <td class=\"confluenceTd\" colspan=\"1\">计划中</td>]\n",
      "[<td class=\"confluenceTd\" colspan=\"1\">XYZ力矩碰撞保护功能默认开启，增加选项开关，推进到市场验收闭环完成</td>, <td class=\"confluenceTd\" colspan=\"1\">杨钊</td>, <td class=\"confluenceTd\" colspan=\"1\">D周</td>, <td class=\"confluenceTd\" colspan=\"1\"><span>修改中</span></td>]\n",
      "[<td class=\"confluenceTd\" colspan=\"1\">STORY#4044,STORY#4153</td>, <td class=\"confluenceTd\" colspan=\"1\">杨钊</td>, <td class=\"confluenceTd\" colspan=\"1\"><br/></td>, <td class=\"confluenceTd\" colspan=\"1\">延期</td>]\n",
      "[<td class=\"confluenceTd\" colspan=\"1\"><br/></td>, <td class=\"confluenceTd\" colspan=\"1\"><br/></td>, <td class=\"confluenceTd\" colspan=\"1\"><br/></td>, <td class=\"confluenceTd\" colspan=\"1\"><br/></td>]\n",
      "[<td class=\"confluenceTd\" colspan=\"1\">任意图形的误差测定</td>, <td class=\"confluenceTd\" colspan=\"1\">吕彪</td>, <td class=\"confluenceTd\" colspan=\"1\">6月</td>, <td class=\"confluenceTd\" colspan=\"1\">已完成</td>]\n",
      "[<td class=\"confluenceTd\" colspan=\"1\">随控一体推进到产品化阶段，具备普适、易用的特点。</td>, <td class=\"confluenceTd\" colspan=\"1\">鞠勇、黄超华</td>, <td class=\"confluenceTd\" colspan=\"1\">D周</td>, <td class=\"confluenceTd\" colspan=\"1\">等测试</td>]\n",
      "[<td class=\"confluenceTd\" colspan=\"1\">管材坡口Matlab仿真实验报告</td>, <td class=\"confluenceTd\" colspan=\"1\">徐力宇</td>, <td class=\"confluenceTd\" colspan=\"1\">6月</td>, <td class=\"confluenceTd\" colspan=\"1\"><p><span>已完成，具体见</span></p><p><span><a href=\"/pages/viewpage.action?pageId=48450341\">1-管材坡口相关</a><br/></span></p></td>]\n",
      "[<td class=\"confluenceTd\" colspan=\"1\">平面坡口Matlab仿真实验报告</td>, <td class=\"confluenceTd\" colspan=\"1\">徐力宇</td>, <td class=\"confluenceTd\" colspan=\"1\">6月</td>, <td class=\"confluenceTd\" colspan=\"1\"><p><span>已完成，具体见</span></p><p><a href=\"/pages/viewpage.action?pageId=48450352\">2-平面坡口相关</a></p></td>]\n",
      "[<td class=\"confluenceTd\" colspan=\"1\">加速度传感器硬件</td>, <td class=\"confluenceTd\" colspan=\"1\">郑羽</td>, <td class=\"confluenceTd\" colspan=\"1\"><span>6月</span></td>, <td class=\"confluenceTd\" colspan=\"1\">等杨钊试用</td>]\n",
      "[<td class=\"confluenceTd\" colspan=\"1\">思考RTOS结构是否可以改善时间切片缓冲数量，是否可以加速缓停的过程</td>, <td class=\"confluenceTd\" colspan=\"1\">谢淼</td>, <td class=\"confluenceTd\" colspan=\"1\"><br/></td>, <td class=\"confluenceTd\" colspan=\"1\">已经列入到鞠勇下半年OKR里面</td>]\n",
      "[<td class=\"confluenceTd\" colspan=\"1\">6月20日前完成课程大纲</td>, <td class=\"confluenceTd\" colspan=\"1\">谢淼</td>, <td class=\"confluenceTd\" colspan=\"1\"><br/></td>, <td class=\"confluenceTd\" colspan=\"1\"><br/></td>]\n",
      "[<td class=\"confluenceTd\" colspan=\"1\">完成CAM内涵外沿的清晰描述</td>, <td class=\"confluenceTd\" colspan=\"1\"><span>谢淼</span></td>, <td class=\"confluenceTd\" colspan=\"1\"><br/></td>, <td class=\"confluenceTd\" colspan=\"1\"><br/></td>]\n",
      "[<td class=\"confluenceTd\" colspan=\"1\">割缝补偿优化，#STORY3655</td>, <td class=\"confluenceTd\" colspan=\"1\"><span>谢淼</span></td>, <td class=\"confluenceTd\" colspan=\"1\"><br/></td>, <td class=\"confluenceTd\" colspan=\"1\">等评审</td>]\n",
      "[<td class=\"confluenceTd\" colspan=\"1\">PMS#4081验收</td>, <td class=\"confluenceTd\" colspan=\"1\"><span>谢淼</span></td>, <td class=\"confluenceTd\" colspan=\"1\"><br/></td>, <td class=\"confluenceTd\" colspan=\"1\"><br/></td>]\n",
      "[<td class=\"confluenceTd\" colspan=\"1\"><br/></td>, <td class=\"confluenceTd\" colspan=\"1\"><br/></td>, <td class=\"confluenceTd\" colspan=\"1\"><br/></td>, <td class=\"confluenceTd\" colspan=\"1\"><br/></td>]\n",
      "[<td class=\"confluenceTd\" colspan=\"1\"><br/></td>, <td class=\"confluenceTd\" colspan=\"1\"><br/></td>, <td class=\"confluenceTd\" colspan=\"1\"><br/></td>, <td class=\"confluenceTd\" colspan=\"1\"><br/></td>]\n"
     ]
    }
   ],
   "source": [
    " for child in soup.tbody.children:\n",
    "        print(child.contents)\n",
    "    "
   ]
  },
  {
   "cell_type": "code",
   "execution_count": null,
   "metadata": {},
   "outputs": [],
   "source": [
    "s = requests.Session()\n",
    "    id = id\n",
    "    url = 'http://oa.fscut.com/seeyon/bbs.do?method=bbsView&articleId=' + id + '&spaceType=&spaceId='\n",
    "\n",
    "    formdata = {\n",
    "        \"managerMethod\": \"findListData\",\n",
    "        \"arguments\": '[{\"pageSize\":\"100\",\"pageNo\":2,\"spaceType\":\"\",\"spaceId\":\"\",\"boardId\":\"\",\"listType\":\"latestArticle\",\"condition\":\"\",\"textfield1\":\"\",\"textfield2\":\"\"}]'\n",
    "    }\n",
    "\n",
    "    r = s.post(url, data=formdata, headers=headers)\n",
    "\n",
    "    return r"
   ]
  },
  {
   "cell_type": "code",
   "execution_count": 3,
   "metadata": {},
   "outputs": [
    {
     "data": {
      "text/plain": [
       "'2014-05-06'"
      ]
     },
     "execution_count": 3,
     "metadata": {},
     "output_type": "execute_result"
    }
   ],
   "source": [
    " '-'.join('2014/05/06'.split('/'))"
   ]
  },
  {
   "cell_type": "code",
   "execution_count": null,
   "metadata": {},
   "outputs": [],
   "source": []
  },
  {
   "cell_type": "code",
   "execution_count": null,
   "metadata": {},
   "outputs": [],
   "source": []
  }
 ],
 "metadata": {
  "kernelspec": {
   "display_name": "Python 3",
   "language": "python",
   "name": "python3"
  },
  "language_info": {
   "codemirror_mode": {
    "name": "ipython",
    "version": 3
   },
   "file_extension": ".py",
   "mimetype": "text/x-python",
   "name": "python",
   "nbconvert_exporter": "python",
   "pygments_lexer": "ipython3",
   "version": "3.7.6"
  }
 },
 "nbformat": 4,
 "nbformat_minor": 4
}
